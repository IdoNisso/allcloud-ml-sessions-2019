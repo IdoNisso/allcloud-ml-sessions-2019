{
 "cells": [
  {
   "cell_type": "markdown",
   "metadata": {
    "colab_type": "text",
    "id": "nq4P4a3arI_D"
   },
   "source": [
    "# ML Session #1 - Lab\n",
    "In this exercise we will (hopefully) get familiar with some of the concepts we discussed in the slides. We'll do that using k-Nearest Neighbors: a **non-parametric** learning algorithm. We will then use kNN to explore the bias-variance tradeoff and try to come up with the optimal kNN classifier for the given data.\n",
    "In this notebook, we will use hypothetical and artificial generated data.\n",
    "\n",
    "Thing's we will do in this notebook:\n",
    " - Implement a ML Classifier from scratch\n",
    " - Generate an artificial data set to test it on\n",
    " - Split our data into train, validation, and test sets\n",
    " - Explore basic hyper-parameter tuning of our model\n",
    "   - When do we Underfit (Bias)\n",
    "   - When do we overfit (Variance)\n",
    " - Use Cross-Validation for more consistent model tuning\n",
    " - Optional: Compare our results to sklearn's model \n",
    "\n",
    "**Note:** In this notebook, we will use some functions from packages we haven't discussed directly yet (like [numpy](https://numpy.org/), [matplotlib](https://matplotlib.org/) and [scikit-learn](https://scikit-learn.org/stable/index.html)). If you've never used them before, feel free to read up on them in the links above and check out the overview notebooks in this folder.\n",
    "\n"
   ]
  },
  {
   "cell_type": "markdown",
   "metadata": {
    "colab_type": "text",
    "id": "Jea5opSRvd0C"
   },
   "source": [
    "## Implement k-Nearest Neighbours (kNN)\n",
    "The kNN algorithm is simple - given a labeled sample set data, and a new sample, predict the label of this sample by using the majority vote over the labels of the k-nearest neighbours (lowest distance) of the new data in the sample set.\n",
    "\n",
    "For this task, assume each data point is an n-dimensional point in $\\mathbb{R}^n$, and each label is either 0 or 1.\n",
    "\n",
    "Implement a class called KNNClassifier and two methods:\n",
    "- `fit`: should recieve the training data (an array of shape [n_samples, n_features]) and their labels (array of shape [n_samples]). \n",
    "- `predict`: should recieve a set of data (an array of shape [n_samples, n_features]) and **return** their predicted labels (array of shape [n_samples]).\n",
    "\n",
    "Use simple [Euclidean distance](https://en.wikipedia.org/wiki/Euclidean_distance#Definition) (either implement it yourself or use [scipy.spatial.distance.euclidean](https://docs.scipy.org/doc/scipy-0.14.0/reference/generated/scipy.spatial.distance.euclidean.html) to measure the distance between two points. In case two points in the training have the same distance from a given point to predict, the nearest would be the one appearing first in the training set. \n",
    "\n",
    "Use majority vote between all kNN of a point to predict its label. In case the vote of all kNN is tied, you may predict whichever label you wish.\n",
    "\n",
    "You may look up [sklearn.neighbors.KNeighborsClassifier](http://scikit-learn.org/stable/modules/generated/sklearn.neighbors.KNeighborsClassifier.html) for reference if you feel completely lost.\n",
    "\n",
    "Consider this example case with k=3: You have 5 training data points [(0,0), (0,1), (1,0), (3,3), (3,4)] and their labels [0, 0, 0, 1, 1]. Your predict function recieves a new point (4,3) and needs to calculate the euclidean distance to all the training points. Then, output the label of the majority of the nearest points (in this toy example those would be (3,3), (3,4), and (1,0)): class 1.\n",
    "\n",
    "**Note:** There are basically 3 ways to implement this. A method using 2 loops, another method using 1 loop, and one using no loops at all.\n",
    "If you can come up with the vectorized solution (computationally efficient, uses 0 loops) quickly - go ahead. If not, don't worry about it for now! \n",
    "**Efficient implementation of kNN is a nice programming exercise, but not the main focus for today.**\n",
    "\n"
   ]
  },
  {
   "cell_type": "code",
   "execution_count": null,
   "metadata": {},
   "outputs": [],
   "source": [
    "# Run this if you have import problems\n",
    "!pip install --upgrade numpy scipy scikit-learn\n",
    "\n"
   ]
  },
  {
   "cell_type": "code",
   "execution_count": null,
   "metadata": {
    "colab": {},
    "colab_type": "code",
    "id": "aYhDJRDPrH7f"
   },
   "outputs": [],
   "source": [
    "import numpy as np\n",
    "\n",
    "\n",
    "class kNNClassifier:\n",
    "    def __init__(self, k_neighbors):\n",
    "        # Initialize classifier\n",
    "        self.n_neighbors = k_neighbors\n",
    "\n",
    "    def fit(self, X, y):\n",
    "        # Recieve training X and y\n",
    "        # Your code here:\n",
    "        pass\n",
    "\n",
    "    def predict(self, X):\n",
    "        # Predict the y for inputted X\n",
    "        # Your code here:\n",
    "        return predictions\n",
    "\n",
    "    def score(self, X, y):\n",
    "        pred = self.predict(X)\n",
    "        mean_accuracy = sum(pred == y) / float(len(y))\n",
    "        return mean_accuracy\n",
    "\n",
    "    "
   ]
  },
  {
   "cell_type": "markdown",
   "metadata": {
    "colab_type": "text",
    "id": "D0vc5yNF0fcP"
   },
   "source": [
    "## Evaluate kNN algorithm on artificial data\n",
    "As mentioned, kNN is **non-parametric**. This means that no inner parameter in the model is learned using the training set. However, the number of neighbours **k *is* considered a hyper-parameter**, and choosing the optimal value means choosing the balance between bias (underfitting) and variance (overfitting) as discussed earlier today.\n",
    "\n"
   ]
  },
  {
   "cell_type": "markdown",
   "metadata": {
    "colab_type": "text",
    "id": "lagz0mWyIXMY"
   },
   "source": [
    "### An example: voter party registration\n",
    "\n",
    "In this example, each voter is described by a vector of two features $(x_0, x_1)$, where $x_0$ describes how wealthy that voter is, and $x_1$ describes how religious the voter is. Label $y=1$ represents a Republican voter, and $y=-1$ represents a Democrat voter.\n",
    "\n",
    "Use the given function `generate_data(m)` to create m samples with m labels. The labels are created using the following (completely made up) function:\n",
    "\n",
    "$$\n",
    "y = \\text{sign}\\left(x_1 - 0.1\\times((x_0-5)^3-x_0^2+(x_0 − 6)^2+80)\\right)\n",
    "$$\n",
    "\n",
    "Then, a small fraction of the labels (chosen randomly, up to 10%) are flipped to represent some unknown effect of features which are not measured. The sign of 0 is defined as 1 for this case.\n",
    "\n",
    "Below is an example of generating 500 samples, and plotting them.\n",
    "\n"
   ]
  },
  {
   "cell_type": "code",
   "execution_count": null,
   "metadata": {
    "colab": {},
    "colab_type": "code",
    "id": "eWtEiM4-4zGV"
   },
   "outputs": [],
   "source": [
    "import numpy as np\n",
    "import matplotlib.pyplot as plt\n",
    "\n",
    "\n",
    "def true_boundary_voting_pred(wealth, religiousness):\n",
    "    return religiousness-0.1*((wealth-5)**3-wealth**2+(wealth-6)**2+80)\n",
    "\n",
    "\n",
    "def generate_data(m, seed=None):\n",
    "    # if seed is not None, this function will always generate the same data\n",
    "    np.random.seed(seed) \n",
    "\n",
    "    X = np.random.uniform(low=0.0, high=10.0, size=(m,2))\n",
    "    y = np.sign(true_boundary_voting_pred(X[:,0], X[:,1]))\n",
    "    y[y==0] = 1\n",
    "    samples_to_flip = np.random.randint(0,m//10)\n",
    "    flip_ind = np.random.choice(m, samples_to_flip, replace=False)\n",
    "    y[flip_ind] = -y[flip_ind]\n",
    "    return X, y\n",
    "\n",
    "\n",
    "def plot_labeled_data(X, y, no_titles=False):\n",
    "    republicans = (y==1)\n",
    "    democrats = (y==-1)\n",
    "    plt.scatter(X[republicans,0], X[republicans,1], c='r')\n",
    "    plt.scatter(X[democrats,0], X[democrats,1], c='b')\n",
    "    if not no_titles:\n",
    "        plt.xlabel('Wealth')\n",
    "        plt.ylabel('Religiousness')\n",
    "        plt.title('Red circles represent Republicans, Blues Democrats')\n",
    "    \n",
    "    plt.xlim([0, 10]);\n",
    "    plt.ylim([0, 10]);\n",
    "    plt.plot(np.linspace(0,10,1000), -true_boundary_voting_pred(np.linspace(0,10,1000), np.zeros(1000)), linewidth=2, c='k');\n",
    "\n",
    "    "
   ]
  },
  {
   "cell_type": "code",
   "execution_count": null,
   "metadata": {
    "colab": {
     "base_uri": "https://localhost:8080/",
     "height": 377
    },
    "colab_type": "code",
    "id": "wNmLr34qNxmx",
    "outputId": "8a17c818-00ab-403b-e634-063f5b97d389"
   },
   "outputs": [],
   "source": [
    "# Run this several times to see different sampling sets\n",
    "X, y = generate_data(m=500)\n",
    "plot_labeled_data(X, y)\n",
    "\n"
   ]
  },
  {
   "attachments": {
    "image.png": {
     "image/png": "[encoded data removed]"
    }
   },
   "cell_type": "markdown",
   "metadata": {
    "colab_type": "text",
    "id": "hbU1ivU23EJO"
   },
   "source": [
    "### 1. Exploring the properties of kNN\n",
    "We will generate multiple sample data sets of size 500 (using the function above), and plot the decision plane for increasing values of k (e.g.: 1, 3, 5, 11, 21, 51, 99).\n",
    "\n",
    "The decision plane will cover the range [0,10] for both axes, coloring the patches that would be classified as Republicans or Democrats in two colors. \n",
    "\n",
    "Below is a sample image of how it should look like. Try to guess what the k was in this image!\n",
    "\n",
    "![image.png](attachment:image.png)\n",
    "*This image shows a kNN decision plane using colored patches. The black line is the function we used to generate the data.*\n",
    "\n"
   ]
  },
  {
   "cell_type": "code",
   "execution_count": null,
   "metadata": {
    "colab": {},
    "colab_type": "code",
    "id": "HRydvY5OrwIX"
   },
   "outputs": [],
   "source": [
    "import matplotlib.cm as cm\n",
    "from matplotlib.colors import Colormap\n",
    "\n",
    "\n",
    "def plot_2D_decision_plane(model, x_min, x_max, y_min, y_max, density=100):\n",
    "    xx, yy = np.meshgrid(np.linspace(x_min, x_max, density), np.linspace(y_min, y_max, density))\n",
    "    Z = model.predict(np.c_[xx.ravel(), yy.ravel()])\n",
    "    Z = Z.reshape(xx.shape)\n",
    "    plt.contourf(xx, yy, Z, colors=('xkcd:sky blue','xkcd:pale orange'))\n",
    "\n"
   ]
  },
  {
   "cell_type": "code",
   "execution_count": null,
   "metadata": {
    "colab": {
     "base_uri": "https://localhost:8080/",
     "height": 1605
    },
    "colab_type": "code",
    "id": "DHJTKo8RMSfA",
    "outputId": "7c8e0202-6386-424e-f8de-21889aac9ecc"
   },
   "outputs": [],
   "source": [
    "# Setting up K and num_repetitions\n",
    "K = [1,3,5,11,21,51,99]\n",
    "num_repetitions = 5  # change this to 1 or 2 if your implementation takes too much time..\n",
    "\n",
    "# Accomodating all subplots\n",
    "plt.figure(figsize=(num_repetitions*4, len(K)*4))\n",
    "\n",
    "# Looping with kNN of different k's\n",
    "plt_ind = 1\n",
    "for k in K:\n",
    "    # Your code here:\n",
    "    # Create a kNN object with k\n",
    "    \n",
    "    for i in range(num_repetitions):\n",
    "        # Your code here:\n",
    "        # Generate data with m=500\n",
    "        # Fit the data\n",
    "        # Notice! The predict happens in plot_2D_decision_plane!\n",
    "        \n",
    "        plt.subplot(len(K), num_repetitions, plt_ind)\n",
    "        if plt_ind < num_repetitions:\n",
    "            plt.title('repetition ' + str(i+1))\n",
    "        if plt_ind % num_repetitions == 1:\n",
    "            plt.ylabel('k=' + str(k))\n",
    "        plot_2D_decision_plane(knn, x_min=0, x_max=10, y_min=0, y_max=10)\n",
    "        plot_labeled_data(X, y, no_titles=True)\n",
    "        plt_ind += 1\n",
    "\n"
   ]
  },
  {
   "cell_type": "markdown",
   "metadata": {},
   "source": [
    "#### Questions:\n",
    "Try to answer the following questions:\n",
    "- How is the decision plain affected from changes in the sample set, as a function of k?\n",
    "- Can you describe when do we underfit and when we overfit the data?\n",
    "- How does the complexity of this model depend on k?\n",
    "\n"
   ]
  },
  {
   "cell_type": "markdown",
   "metadata": {
    "colab_type": "text",
    "id": "r_oS5qRz6N8n"
   },
   "source": [
    "#### Answers: \n",
    "- ???\n",
    "\n",
    "- ???\n",
    "\n",
    "- ???\n",
    "\n"
   ]
  },
  {
   "cell_type": "markdown",
   "metadata": {
    "colab_type": "text",
    "id": "9FAvgN2R28F9"
   },
   "source": [
    "### 2. Finding the optimal k\n",
    " - Sample a single set of size 1000 and divide it randomly to train (0.6) / validation (0.2) / test (0.2) sets. Use [sklearn.model_selection.train_test_split](https://scikit-learn.org/stable/modules/generated/sklearn.model_selection.train_test_split.html)! \n",
    " - Plot the train vs validation error for several k values, and choose the best k. Where do you underfit/overfit the data? \n",
    " - Finally, estimate the generalization error of your chosen classifier using the test set.\n",
    "\n"
   ]
  },
  {
   "cell_type": "code",
   "execution_count": null,
   "metadata": {
    "colab": {
     "base_uri": "https://localhost:8080/",
     "height": 35
    },
    "colab_type": "code",
    "id": "J7XNvwa-K1sQ",
    "outputId": "3dac0dfb-1790-4adb-8ffa-65bd134e4989"
   },
   "outputs": [],
   "source": [
    "from sklearn.model_selection import train_test_split\n",
    "\n",
    "\n",
    "# We usually want to set the random seed to some number for reproducibility of the results\n",
    "# This is also true for 'random_state' in train_test_split!\n",
    "random_seed = 42\n",
    "X, y = generate_data(m=1000, seed=random_seed)\n",
    "\n",
    "# Your code here:\n",
    "# Split the data into training and test sets\n",
    "\n",
    "\n",
    "# Verifying we got it right\n",
    "assert X_train.shape == (600, 2)\n",
    "assert X_validation.shape == (200, 2)\n",
    "assert X_test.shape == (200, 2)\n",
    "assert y_train.shape == (600,)\n",
    "assert y_validation.shape == (200,)\n",
    "assert y_test.shape == (200,)\n",
    "\n"
   ]
  },
  {
   "cell_type": "code",
   "execution_count": null,
   "metadata": {
    "colab": {},
    "colab_type": "code",
    "id": "nSDjqqscBomk"
   },
   "outputs": [],
   "source": [
    "# Building range of k's: 1, 3, 5, 7, .. , 59\n",
    "K = range(1, 60, 2)\n",
    "\n",
    "# Initializing error arrays\n",
    "training_err = np.empty(len(K))\n",
    "validation_err = np.empty(len(K))\n",
    "\n",
    "# Running over all k's to get training and validation error\n",
    "for i in range(len(K)):\n",
    "    knn = kNNClassifier(K[i])\n",
    "    knn.fit(X_train, y_train)  \n",
    "    training_err[i] = 1 - knn.score(X_train, y_train) \n",
    "    validation_err[i] = 1 - knn.score(X_validation, y_validation)\n",
    "\n"
   ]
  },
  {
   "cell_type": "code",
   "execution_count": null,
   "metadata": {
    "colab": {
     "base_uri": "https://localhost:8080/",
     "height": 365
    },
    "colab_type": "code",
    "id": "FPQ5eYvIEFWb",
    "outputId": "c61ea69b-09a3-4644-ec3c-55eb714afd17"
   },
   "outputs": [],
   "source": [
    "# Using numpy's argmin to find the best k:\n",
    "# https://docs.scipy.org/doc/numpy/reference/generated/numpy.argmin.html\n",
    "opt_k = K[np.argmin(validation_err)]\n",
    "\n",
    "plt.plot(K, training_err, 'g', label='Train error');\n",
    "plt.plot(K, validation_err, 'k', label='Generalization error (estimated using validation error)');\n",
    "plt.axvline(opt_k, color='r', linewidth=2, linestyle=':', label='Optimal k (minimizing the estimated generalization error)');\n",
    "\n",
    "plt.legend(loc='lower right')\n",
    "print('Optimal k (minimum validation error) is ' + str(opt_k))\n",
    "\n"
   ]
  },
  {
   "cell_type": "code",
   "execution_count": null,
   "metadata": {
    "colab": {
     "base_uri": "https://localhost:8080/",
     "height": 35
    },
    "colab_type": "code",
    "id": "-3qfN4hqKkT8",
    "outputId": "c7cc6372-5792-435c-deca-c78cc1965853"
   },
   "outputs": [],
   "source": [
    "# Optimal model (based on current knowledge)\n",
    "knn = kNNClassifier(opt_k)\n",
    "# Your code here:\n",
    "# fit all training data (training + previous validation set) to knn\n",
    "\n",
    "generalization_err = 1 - knn.score(X_test, y_test)\n",
    "print('Estimated generalization error is: ' + str(generalization_err))\n",
    "\n"
   ]
  },
  {
   "cell_type": "markdown",
   "metadata": {
    "colab_type": "text",
    "id": "d5bS6ekxK14_"
   },
   "source": [
    "The plot above should look familier from the slides. **Right** to the optimal k (red line) the model **underfit** the data (approaching the optimal k both error rates reduce as the model better describes the data), while **left** to it we see a very clear **overfitting** (train error goes to zero, while generalization error increases dramatically).\n",
    "\n",
    "It is important to note that the result of the optimal k and the beahviour of the error curves may change for a different dataset (or if we split it differently). One way to handle this is to sample much more data. Unfortunately, in most real world applications this is impossible, and in this case too, we assume the 1000 samples we got are all we have. \n",
    "\n",
    "In the next section we will try to reduce this variability using k-fold cross validation! Shall we?\n",
    "\n"
   ]
  },
  {
   "cell_type": "markdown",
   "metadata": {
    "colab_type": "text",
    "id": "2uHY-ECb2-nt"
   },
   "source": [
    "### 3. Using Cross-Validation (CV)\n",
    "This time, lets put the test data aside (0.2 of the data as before), and apply 5-fold CV on the remaining data to evaluate the performance of each k value. Use [sklearn.model_selection.KFold](https://scikit-learn.org/stable/modules/generated/sklearn.model_selection.KFold.html) for this task.\n",
    "\n",
    "- What is the size of the validation and train set now, in each CV iteration?\n",
    "- Did your final model selection change? Why?\n",
    "\n"
   ]
  },
  {
   "cell_type": "code",
   "execution_count": null,
   "metadata": {
    "colab": {},
    "colab_type": "code",
    "id": "MM9GTfGojjCp"
   },
   "outputs": [],
   "source": [
    "from sklearn.model_selection import KFold\n",
    "\n",
    "\n",
    "def my_cross_val_score(model, X, y, cv):\n",
    "    # Your code here:\n",
    "    # Use KFold on your data\n",
    "    # Iterate over cross validation indices:\n",
    "        # Fit on train, score on test\n",
    "    # HINT: Check out sample code at https://scikit-learn.org/stable/modules/generated/sklearn.model_selection.KFold.html\n",
    "    return scores\n",
    "\n",
    "\n",
    "def optimal_param_using_cross_val(model_class, param_vals, \n",
    "                                  cross_val_score_fn, num_folds, \n",
    "                                  X_train, y_train, X_test, y_test):\n",
    "    # find optimal parameter using k-fold cross validation test\n",
    "    validation_err = np.empty(len(param_vals))\n",
    "    for i in range(len(param_vals)):\n",
    "        model = model_class(param_vals[i])\n",
    "        validation_err[i] = 1 - np.mean(cross_val_score_fn(model, X_train, y_train, cv=num_folds))\n",
    "  \n",
    "    opt_p = param_vals[np.argmin(validation_err)]\n",
    "    print('Optimal parameter (minimum validation error) is ' + str(opt_p) +\n",
    "          ' with an estimated generalization error of ' + str(np.min(validation_err)))\n",
    "  \n",
    "    plt.plot(param_vals, validation_err, 'k', label='Generalization error (estimated using validation error)');\n",
    "    plt.axvline(opt_p, color='r', linewidth=2, linestyle=':', label='Optimal param (minimizing the estimated generalization error)');\n",
    "    plt.legend(loc='upper right')\n",
    "  \n",
    "    # print the estimated generalization error on the test set\n",
    "    model = model_class(opt_p)\n",
    "    model.fit(X_train, y_train)\n",
    "    generalization_err = 1 - model.score(X_test, y_test)\n",
    "    print('Estimated generalization error on test set: ' + str(generalization_err))\n",
    "\n"
   ]
  },
  {
   "cell_type": "code",
   "execution_count": null,
   "metadata": {
    "colab": {
     "base_uri": "https://localhost:8080/",
     "height": 382
    },
    "colab_type": "code",
    "id": "xuM8BqQrlW-A",
    "outputId": "c459e99a-2f56-4d46-8ce5-d6d5bf5cebc9"
   },
   "outputs": [],
   "source": [
    "# Run it!\n",
    "optimal_param_using_cross_val(kNNClassifier, K, my_cross_val_score, 5, \n",
    "                              tmp_X_train, tmp_y_train, X_test, y_test)\n",
    "\n"
   ]
  },
  {
   "cell_type": "markdown",
   "metadata": {
    "colab_type": "text",
    "id": "Uw3AQ1vuMOgU"
   },
   "source": [
    "We are using our whole training dataset which contains 800 points, and we are applying a 5-fold cross validation task, so the data is split in each iteration into $\\frac{1}{5}$ for test, and $1-\\frac{1}{5}=\\frac{4}{5}$ for training. That is, in each split 640 samples are used for estimation and 160 samples for *testing* (in this case - validation).\n",
    "\n",
    "The final model selection (k selection) changed in this case. Is this the best k? Maybe, but due to our relatively small sample size and the potential complexity of this model, we will probably still get enough variablity even in this case to change the final outcome and shift the optimal value of k when different sample sets are generated, or even just different partitions of the data are created in the k-fold cross validation test.\n",
    "\n",
    "Generally, using k-fold cross validation gives us a more stable estimation of the generalization error rate (as it is averaged over several random partitions of the data into train and test). As we increase the number of folds in the cross validation test we will reduce the variance in the generalization error estimation task. However, it is most likely that at the same time we will increase the bias of this task (meaning- underfit), making us *believe* the generalization error rate is lower than it *actually* is.\n",
    "\n",
    "Below, I ran 10, 50, 100, and 200-fold cross validation experiments. The results suggest that **the optimal k for in this case is probably around 9**.\n",
    "\n"
   ]
  },
  {
   "cell_type": "code",
   "execution_count": null,
   "metadata": {},
   "outputs": [],
   "source": [
    "optimal_param_using_cross_val(kNNClassifier, K, my_cross_val_score, 10, \n",
    "                              tmp_X_train, tmp_y_train, X_test, y_test)\n",
    "\n"
   ]
  },
  {
   "cell_type": "code",
   "execution_count": null,
   "metadata": {
    "colab": {
     "base_uri": "https://localhost:8080/",
     "height": 382
    },
    "colab_type": "code",
    "id": "bILBxT3e97cj",
    "outputId": "e29deaf8-1e4c-4563-dc60-ef5dcb04ada8"
   },
   "outputs": [],
   "source": [
    "optimal_param_using_cross_val(kNNClassifier, K, my_cross_val_score, 50, \n",
    "                              tmp_X_train, tmp_y_train, X_test, y_test)\n",
    "\n"
   ]
  },
  {
   "cell_type": "code",
   "execution_count": null,
   "metadata": {
    "colab": {
     "base_uri": "https://localhost:8080/",
     "height": 382
    },
    "colab_type": "code",
    "id": "UFMm1tRC9-ga",
    "outputId": "93b60f94-82e8-41a3-dbcf-954381e99800"
   },
   "outputs": [],
   "source": [
    "optimal_param_using_cross_val(kNNClassifier, K, my_cross_val_score, 100, \n",
    "                              tmp_X_train, tmp_y_train, X_test, y_test)\n",
    "\n"
   ]
  },
  {
   "cell_type": "code",
   "execution_count": null,
   "metadata": {
    "colab": {
     "base_uri": "https://localhost:8080/",
     "height": 382
    },
    "colab_type": "code",
    "id": "iFbrVREsBQ4z",
    "outputId": "fab517d8-5c9e-4dd3-85d3-23e58903a1f4"
   },
   "outputs": [],
   "source": [
    "optimal_param_using_cross_val(kNNClassifier, K, my_cross_val_score, 200, \n",
    "                              tmp_X_train, tmp_y_train, X_test, y_test)\n",
    "\n"
   ]
  },
  {
   "cell_type": "markdown",
   "metadata": {
    "colab_type": "text",
    "id": "t1vwRv26-o_q"
   },
   "source": [
    "### 4. Comparison with `KNeighborsClassifier` and `cross_val_score` from `sklearn`\n",
    "An interesting task you can take on yourself when you implement known algorithms, is to compare your results to an 'official' implementation. \n",
    "\n",
    "Let's compare our results to Scikit-learn's kNN classifier and Cross-Validation scorer. We *should* get highly similar results!\n",
    "\n"
   ]
  },
  {
   "cell_type": "code",
   "execution_count": null,
   "metadata": {
    "colab": {},
    "colab_type": "code",
    "id": "f_KV0MOI7zby"
   },
   "outputs": [],
   "source": [
    "from sklearn.neighbors import KNeighborsClassifier\n",
    "from sklearn.model_selection import cross_val_score\n",
    "\n"
   ]
  },
  {
   "cell_type": "code",
   "execution_count": null,
   "metadata": {
    "colab": {
     "base_uri": "https://localhost:8080/",
     "height": 382
    },
    "colab_type": "code",
    "id": "rOtOuXMJ73Xa",
    "outputId": "70709387-cc21-4539-e503-4949262e12cc"
   },
   "outputs": [],
   "source": [
    "# Using sklearn's kNN Classifier with our CV scorer, 5-fold CV\n",
    "optimal_param_using_cross_val(KNeighborsClassifier, K, my_cross_val_score, 5, \n",
    "                              tmp_X_train, tmp_y_train, X_test, y_test)\n",
    "\n"
   ]
  },
  {
   "cell_type": "code",
   "execution_count": null,
   "metadata": {
    "colab": {
     "base_uri": "https://localhost:8080/",
     "height": 382
    },
    "colab_type": "code",
    "id": "h2czYAXC9W5r",
    "outputId": "1c5960bc-ebbf-4021-c3bf-c3be34466fc6"
   },
   "outputs": [],
   "source": [
    "# Using sklearn's kNN Classifier with their CV scorer, 5-fold CV\n",
    "optimal_param_using_cross_val(KNeighborsClassifier, K, cross_val_score, 5, \n",
    "                              tmp_X_train, tmp_y_train, X_test, y_test)\n",
    "\n"
   ]
  },
  {
   "cell_type": "code",
   "execution_count": null,
   "metadata": {
    "colab": {
     "base_uri": "https://localhost:8080/",
     "height": 382
    },
    "colab_type": "code",
    "id": "ZaQ54GAQ9jW6",
    "outputId": "426d034c-e39b-4e60-c601-4336c366a11c"
   },
   "outputs": [],
   "source": [
    "# Using sklearn's kNN Classifier with their CV scorer, 10-fold CV\n",
    "optimal_param_using_cross_val(KNeighborsClassifier, K, cross_val_score, 10, \n",
    "                              tmp_X_train, tmp_y_train, X_test, y_test)\n",
    "\n"
   ]
  },
  {
   "cell_type": "code",
   "execution_count": null,
   "metadata": {
    "colab": {
     "base_uri": "https://localhost:8080/",
     "height": 382
    },
    "colab_type": "code",
    "id": "6fVspukp-Z5J",
    "outputId": "ab3163aa-ef8b-46d8-9603-159f489ad3e4"
   },
   "outputs": [],
   "source": [
    "# Using sklearn's kNN Classifier with their CV scorer, 50-fold CV\n",
    "optimal_param_using_cross_val(KNeighborsClassifier, K, cross_val_score, 50, \n",
    "                              tmp_X_train, tmp_y_train, X_test, y_test)\n",
    "\n"
   ]
  },
  {
   "cell_type": "markdown",
   "metadata": {
    "colab_type": "text",
    "id": "aB2eeEKNUAmJ"
   },
   "source": [
    "## References - Recommended Reading!\n",
    "- http://scott.fortmann-roe.com/docs/BiasVariance.html\n",
    "- http://scott.fortmann-roe.com/docs/MeasuringError.html\n",
    "\n"
   ]
  }
 ],
 "metadata": {
  "colab": {
   "collapsed_sections": [],
   "name": "intro_ml_knn_solution.ipynb",
   "provenance": []
  },
  "kernelspec": {
   "display_name": "conda_python3",
   "language": "python",
   "name": "conda_python3"
  },
  "language_info": {
   "codemirror_mode": {
    "name": "ipython",
    "version": 3
   },
   "file_extension": ".py",
   "mimetype": "text/x-python",
   "name": "python",
   "nbconvert_exporter": "python",
   "pygments_lexer": "ipython3",
   "version": "3.6.5"
  },
  "toc-autonumbering": false,
  "toc-showcode": false,
  "toc-showmarkdowntxt": false
 },
 "nbformat": 4,
 "nbformat_minor": 4
}
