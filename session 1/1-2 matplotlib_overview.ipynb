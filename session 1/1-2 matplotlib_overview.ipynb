{
 "cells": [
  {
   "cell_type": "markdown",
   "metadata": {},
   "source": [
    "# `matplotlib` Overview\n",
    "\n"
   ]
  },
  {
   "cell_type": "code",
   "execution_count": null,
   "metadata": {},
   "outputs": [],
   "source": [
    "!pip install --upgrade matplotlib seaborn\n",
    "\n"
   ]
  },
  {
   "cell_type": "markdown",
   "metadata": {},
   "source": [
    "## Import convention\n",
    "\n"
   ]
  },
  {
   "cell_type": "code",
   "execution_count": null,
   "metadata": {},
   "outputs": [],
   "source": [
    "import numpy as np\n",
    "from matplotlib import pyplot as plt\n",
    "\n",
    "# use this magic in Jupyter notebooks to draw the figures in the cell output\n",
    "%matplotlib inline\n",
    "\n"
   ]
  },
  {
   "cell_type": "markdown",
   "metadata": {},
   "source": [
    "## Figures\n",
    "\n",
    "It all starts with figure:\n",
    "\n"
   ]
  },
  {
   "cell_type": "code",
   "execution_count": null,
   "metadata": {},
   "outputs": [],
   "source": [
    "plt.figure()\n",
    "plt.plot()\n",
    "plt.show()\n",
    "\n"
   ]
  },
  {
   "cell_type": "code",
   "execution_count": null,
   "metadata": {},
   "outputs": [],
   "source": [
    "# Figure can have size (in inches)\n",
    "plt.figure(figsize=(6,6))\n",
    "plt.plot()\n",
    "plt.show()\n",
    "\n"
   ]
  },
  {
   "cell_type": "code",
   "execution_count": null,
   "metadata": {},
   "outputs": [],
   "source": [
    "# It's easy to plot something flat\n",
    "# Method 1: with plt object\n",
    "plt.figure(figsize=(6,6))\n",
    "plt.plot(np.random.randn(100))\n",
    "plt.show()\n",
    "\n"
   ]
  },
  {
   "cell_type": "code",
   "execution_count": null,
   "metadata": {},
   "outputs": [],
   "source": [
    "# It's easy to plot something flat\n",
    "# Method 2: with ax object\n",
    "fig = plt.figure(figsize=(6,6))\n",
    "ax = plt.gca() # Get current axes\n",
    "ax.plot(np.random.randn(100))\n",
    "plt.show()\n",
    "\n"
   ]
  },
  {
   "cell_type": "code",
   "execution_count": null,
   "metadata": {},
   "outputs": [],
   "source": [
    "# It's easy to add labels and title\n",
    "fig = plt.figure(figsize=(6,6))\n",
    "ax = plt.gca() # Get current axes\n",
    "ax.plot(np.random.randn(100))\n",
    "ax.set_title(\"This is random normal variable\")\n",
    "ax.set_xlabel(\"x axis labels are important\")\n",
    "ax.set_ylabel(\"y axis labels are important too\")\n",
    "plt.show()\n",
    "\n"
   ]
  },
  {
   "cell_type": "markdown",
   "metadata": {},
   "source": [
    "## Line plots"
   ]
  },
  {
   "cell_type": "code",
   "execution_count": null,
   "metadata": {},
   "outputs": [],
   "source": [
    "NUM_POINTS = 1000\n",
    "x = np.linspace(0, 4.*np.pi, NUM_POINTS)\n",
    "y = np.sin(x) + np.random.normal(0, 0.1, NUM_POINTS)\n",
    "\n"
   ]
  },
  {
   "cell_type": "code",
   "execution_count": null,
   "metadata": {},
   "outputs": [],
   "source": [
    "plt.figure(figsize=(6,6))\n",
    "plt.plot(x, y)\n",
    "\n"
   ]
  },
  {
   "cell_type": "code",
   "execution_count": null,
   "metadata": {},
   "outputs": [],
   "source": [
    "plt.figure(figsize=(6,6))\n",
    "plt.plot(x, y)\n",
    "plt.xlabel('x')\n",
    "plt.ylabel('y')\n",
    "plt.grid(False) # try changing this to True\n",
    "plt.xlim(0, 4*np.pi)\n",
    "plt.title(\"Noisy sin(x)\");  # the ; in the last line silences text output that the line of code might have. Try removing it and see the difference!\n",
    "\n"
   ]
  },
  {
   "cell_type": "code",
   "execution_count": null,
   "metadata": {},
   "outputs": [],
   "source": [
    "# There are built-in styles you can use\n",
    "plt.style.use('ggplot')\n",
    "\n"
   ]
  },
  {
   "cell_type": "markdown",
   "metadata": {},
   "source": [
    "Check out the [matplotlib style sheet reference](https://matplotlib.org/3.1.1/gallery/style_sheets/style_sheets_reference.html)."
   ]
  },
  {
   "cell_type": "code",
   "execution_count": null,
   "metadata": {},
   "outputs": [],
   "source": [
    "plt.figure(figsize=(6,6))\n",
    "plt.plot(x, y)\n",
    "plt.xlabel('x')\n",
    "plt.ylabel('y')\n",
    "plt.grid(True)\n",
    "plt.xlim(0, 4*np.pi)\n",
    "plt.title(\"Noisy sin(x)\");\n",
    "\n"
   ]
  },
  {
   "cell_type": "code",
   "execution_count": null,
   "metadata": {},
   "outputs": [],
   "source": [
    "# You can also pick and choose your colors\n",
    "plt.figure(figsize=(6,6))\n",
    "plt.plot(x, y, '--', c='royalblue')\n",
    "plt.plot(x, np.sin(x), c='firebrick')\n",
    "plt.xlabel('x')\n",
    "plt.ylabel('y')\n",
    "plt.grid(True)\n",
    "plt.xlim(0, 4*np.pi)\n",
    "plt.title(\"Noisy sin(x)\");\n",
    "\n"
   ]
  },
  {
   "cell_type": "code",
   "execution_count": null,
   "metadata": {},
   "outputs": [],
   "source": [
    "# .. and change a variety of parameter like marker shape, marker size, line width, etc\n",
    "plt.figure(figsize=(6,6))\n",
    "plt.plot(x, y, 'o', markersize=2, c='royalblue')\n",
    "plt.plot(x, np.sin(x), c='firebrick', linewidth=2)\n",
    "plt.xlabel('x')\n",
    "plt.ylabel('y')\n",
    "plt.grid(True)\n",
    "plt.xlim(0, 4*np.pi)\n",
    "plt.title(\"Noisy sin(x)\");\n",
    "\n"
   ]
  },
  {
   "cell_type": "markdown",
   "metadata": {},
   "source": [
    "## Legends"
   ]
  },
  {
   "cell_type": "code",
   "execution_count": null,
   "metadata": {},
   "outputs": [],
   "source": [
    "# Want to add a legend?\n",
    "plt.figure(figsize=(6,6))\n",
    "plt.plot(x, y, 'o', markersize=2, c='royalblue', label='noisy')  # make sure to label your data for the legend\n",
    "plt.plot(x, np.sin(x), c='firebrick', linewidth=2, label='original')  # make sure to label your data for the legend 2\n",
    "plt.xlabel('x')\n",
    "plt.ylabel('y')\n",
    "plt.grid(True)\n",
    "plt.xlim(0, 4*np.pi)\n",
    "plt.legend() # Add this\n",
    "plt.title(\"Noisy sin(x)\");\n",
    "\n"
   ]
  },
  {
   "cell_type": "markdown",
   "metadata": {},
   "source": [
    "## Scatter plots"
   ]
  },
  {
   "cell_type": "code",
   "execution_count": null,
   "metadata": {},
   "outputs": [],
   "source": [
    "x = np.random.randn(NUM_POINTS)\n",
    "y = x + np.random.normal(0, 0.1, NUM_POINTS)\n",
    "\n"
   ]
  },
  {
   "cell_type": "code",
   "execution_count": null,
   "metadata": {},
   "outputs": [],
   "source": [
    "plt.figure(figsize=(6,6))\n",
    "plt.scatter(x, y, marker='o', s=2, c='royalblue', label='noisy')\n",
    "plt.xlabel('x')\n",
    "plt.ylabel('y')\n",
    "plt.grid(True)\n",
    "plt.xlim(-4, 4)\n",
    "plt.ylim(-4, 4)\n",
    "plt.legend()\n",
    "plt.title(\"y vs. x\");\n",
    "\n"
   ]
  },
  {
   "cell_type": "code",
   "execution_count": null,
   "metadata": {},
   "outputs": [],
   "source": [
    "sz = np.random.randint(2, 32, size=(NUM_POINTS,))\n",
    "\n"
   ]
  },
  {
   "cell_type": "code",
   "execution_count": null,
   "metadata": {},
   "outputs": [],
   "source": [
    "plt.figure(figsize=(6,6))\n",
    "plt.scatter(x, y, marker='o', s=sz, c='royalblue', label='noisy')\n",
    "plt.xlabel('x')\n",
    "plt.ylabel('y')\n",
    "plt.grid(True)\n",
    "plt.xlim(-4, 4)\n",
    "plt.ylim(-4, 4)\n",
    "plt.legend()\n",
    "plt.title(\"y vs. x\");\n",
    "\n"
   ]
  },
  {
   "cell_type": "code",
   "execution_count": null,
   "metadata": {},
   "outputs": [],
   "source": [
    "# Lets color our data points differently\n",
    "colors = x + np.random.normal(0, 0.1, size=(NUM_POINTS,))\n",
    "\n",
    "plt.figure(figsize=(6,6))\n",
    "plt.scatter(x, y, marker='o', alpha=0.7, s=32, c=colors, edgecolor='k', label='noisy')\n",
    "plt.xlabel('x')\n",
    "plt.ylabel('y')\n",
    "plt.grid(True)\n",
    "plt.xlim(-4, 4)\n",
    "plt.ylim(-4, 4)\n",
    "plt.legend()\n",
    "plt.title(\"y vs. x\");\n",
    "\n"
   ]
  },
  {
   "cell_type": "code",
   "execution_count": null,
   "metadata": {},
   "outputs": [],
   "source": [
    "plt.figure(figsize=(6.5,6))\n",
    "plt.scatter(x, y, marker='o', alpha=0.7, s=32, c=colors, edgecolor='k', label='noisy')\n",
    "plt.colorbar() # If the colors have meaning..\n",
    "plt.xlabel('x')\n",
    "plt.ylabel('y')\n",
    "plt.grid(True)\n",
    "plt.xlim(-4, 4)\n",
    "plt.ylim(-4, 4)\n",
    "plt.legend()\n",
    "plt.title(\"y vs. x\")\n",
    "plt.tight_layout()  # tight_layout will be especially important when we draw multiple figures in the same cell\n",
    "\n"
   ]
  },
  {
   "cell_type": "markdown",
   "metadata": {},
   "source": [
    "## Histograms"
   ]
  },
  {
   "cell_type": "code",
   "execution_count": null,
   "metadata": {},
   "outputs": [],
   "source": [
    "plt.figure(figsize=(6.5,6))\n",
    "plt.hist(x, alpha=0.7, color='firebrick', edgecolor='k', label='noisy')\n",
    "plt.xlabel('x')\n",
    "plt.ylabel('N')\n",
    "plt.grid(True)\n",
    "plt.xlim(-4, 4)\n",
    "plt.legend()\n",
    "plt.title(\"Distribution of x\")\n",
    "plt.tight_layout()\n",
    "\n"
   ]
  },
  {
   "cell_type": "code",
   "execution_count": null,
   "metadata": {},
   "outputs": [],
   "source": [
    "plt.figure(figsize=(6.5,6))\n",
    "plt.hist(x, bins=10, range=(-3, 3), density=True, alpha=0.7, width=0.2, color='firebrick', edgecolor='k', label='noisy')\n",
    "plt.xlabel('x')\n",
    "plt.ylabel('N')\n",
    "plt.grid(True)\n",
    "plt.xlim(-4, 4)\n",
    "plt.legend()\n",
    "plt.title(\"Distribution of x\")\n",
    "plt.tight_layout()\n",
    "\n"
   ]
  },
  {
   "cell_type": "code",
   "execution_count": null,
   "metadata": {},
   "outputs": [],
   "source": [
    "# Cumulative distribution\n",
    "plt.figure(figsize=(6.5,6))\n",
    "plt.hist(x, bins=10, range=(-3, 3), cumulative=True, density=True, alpha=0.7, color='green', edgecolor='k', label='cumulative')\n",
    "plt.xlabel('x')\n",
    "plt.ylabel('N')\n",
    "plt.grid(True)\n",
    "plt.xlim(-4, 4)\n",
    "plt.legend()\n",
    "plt.title(\"Distribution of x\")\n",
    "plt.tight_layout()\n",
    "\n"
   ]
  },
  {
   "cell_type": "code",
   "execution_count": null,
   "metadata": {},
   "outputs": [],
   "source": [
    "# You can use histtype for other histogram types\n",
    "plt.figure(figsize=(6.5,6))\n",
    "plt.hist([x, y], alpha=0.7, color=('firebrick', 'royalblue'), cumulative=True, density=True, histtype='barstacked', edgecolor='k', label=('x', 'y'))\n",
    "plt.xlabel('x')\n",
    "plt.ylabel('N')\n",
    "plt.grid(True)\n",
    "plt.xlim(-4, 4)\n",
    "plt.legend()\n",
    "plt.title(\"Distribution of x and y\")\n",
    "plt.tight_layout()\n",
    "\n"
   ]
  },
  {
   "cell_type": "markdown",
   "metadata": {},
   "source": [
    "## Boxplots"
   ]
  },
  {
   "cell_type": "code",
   "execution_count": null,
   "metadata": {},
   "outputs": [],
   "source": [
    "plt.figure(figsize=(6.5,6))\n",
    "plt.boxplot([x, y])\n",
    "plt.grid(True)\n",
    "plt.xlim(0, 3)\n",
    "plt.title(\"Distribution of x and y\")\n",
    "plt.xticks([1, 2], ['x', 'y'], fontsize=12)\n",
    "plt.tight_layout()\n",
    "\n"
   ]
  },
  {
   "cell_type": "code",
   "execution_count": null,
   "metadata": {},
   "outputs": [],
   "source": [
    "plt.figure(figsize=(6.5,6))\n",
    "plt.boxplot([x, y], showfliers=False)\n",
    "plt.grid(True)\n",
    "plt.xlim(0, 3)\n",
    "plt.title(\"Distribution of x and y\")\n",
    "plt.xticks([1, 2], ['x', 'y'], fontsize=12)\n",
    "plt.tight_layout()\n",
    "\n"
   ]
  },
  {
   "cell_type": "markdown",
   "metadata": {},
   "source": [
    "## Subplots"
   ]
  },
  {
   "cell_type": "code",
   "execution_count": null,
   "metadata": {},
   "outputs": [],
   "source": [
    "# For multiple subplot in the same cell (same plot) you can use subplot()\n",
    "plt.figure(figsize=(12,12))\n",
    "\n",
    "# First subplot\n",
    "plt.subplot(2, 2, 1)\n",
    "plt.scatter(x, y, marker='o', alpha=0.7, s=32, c=colors, edgecolor='k', label='noisy')\n",
    "plt.xlabel('x')\n",
    "plt.ylabel('y')\n",
    "plt.grid(True)\n",
    "plt.xlim(-4, 4)\n",
    "plt.ylim(-4, 4)\n",
    "plt.legend()\n",
    "plt.title(\"y vs. x\")\n",
    "\n",
    "# Second subplot\n",
    "plt.subplot(2, 2, 2)\n",
    "plt.plot(x, c='firebrick', linewidth=1, alpha=0.7, label='x')\n",
    "plt.plot(y, c='royalblue', linewidth=1, alpha=0.7, label='y')\n",
    "plt.xlabel('x, y')\n",
    "plt.grid(True)\n",
    "plt.ylim(-4, 4)\n",
    "plt.legend()\n",
    "plt.title(\"x and y\")\n",
    "\n",
    "# Third subplot\n",
    "plt.subplot(2, 2, 3)\n",
    "plt.hist(x, bins=10, range=(-3, 3), density=True, alpha=0.7, color='firebrick', edgecolor='k')\n",
    "plt.xlabel('x')\n",
    "plt.ylabel('N')\n",
    "plt.grid(True)\n",
    "plt.xlim(-4, 4)\n",
    "plt.title(\"Distribution of x\")\n",
    "\n",
    "# Fourth subplot\n",
    "plt.subplot(2, 2, 4)\n",
    "plt.hist(y, bins=10, range=(-3, 3), density=True, alpha=0.7, color='royalblue', edgecolor='k')\n",
    "plt.xlabel('y')\n",
    "plt.ylabel('N')\n",
    "plt.grid(True)\n",
    "plt.xlim(-4, 4)\n",
    "plt.title(\"Distribution of y\")\n",
    "\n",
    "plt.tight_layout()\n",
    "\n"
   ]
  },
  {
   "cell_type": "markdown",
   "metadata": {},
   "source": [
    "# Seaborn\n",
    "Another nice visualizing python package.\n",
    "\n",
    "## Import convention\n"
   ]
  },
  {
   "cell_type": "code",
   "execution_count": null,
   "metadata": {},
   "outputs": [],
   "source": [
    "import seaborn as sns\n",
    "\n"
   ]
  },
  {
   "cell_type": "code",
   "execution_count": null,
   "metadata": {},
   "outputs": [],
   "source": [
    "# You can check out the parameters like this\n",
    "sns.distplot\n",
    "\n"
   ]
  },
  {
   "cell_type": "code",
   "execution_count": null,
   "metadata": {},
   "outputs": [],
   "source": [
    "plt.figure(figsize=(6,6))\n",
    "sns.distplot(x, ax=plt.gca(), rug=True);\n",
    "\n"
   ]
  },
  {
   "cell_type": "code",
   "execution_count": null,
   "metadata": {},
   "outputs": [],
   "source": [
    "# Heatmap\n",
    "plt.figure(figsize=(7,6))\n",
    "sns.heatmap(np.random.randn(10, 10))\n",
    "\n"
   ]
  },
  {
   "cell_type": "code",
   "execution_count": null,
   "metadata": {},
   "outputs": [],
   "source": []
  }
 ],
 "metadata": {
  "kernelspec": {
   "display_name": "conda_python3",
   "language": "python",
   "name": "conda_python3"
  },
  "language_info": {
   "codemirror_mode": {
    "name": "ipython",
    "version": 3
   },
   "file_extension": ".py",
   "mimetype": "text/x-python",
   "name": "python",
   "nbconvert_exporter": "python",
   "pygments_lexer": "ipython3",
   "version": "3.6.5"
  }
 },
 "nbformat": 4,
 "nbformat_minor": 4
}
